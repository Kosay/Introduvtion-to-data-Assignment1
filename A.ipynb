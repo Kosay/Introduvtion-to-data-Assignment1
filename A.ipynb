import pandas as pd
import matplotlib.pyplot as plt

df = pd.read_csv("F:\datasetLab1.csv")

df = df.dropna(subset = ['Entity', 'GDP per capita', 'Life expectancy'])

df = df[df['Year'].isin(['2004'])]

fig, ax = plt.subplots()

fig.set_dpi(1000)
fig.set_size_inches(3,2)

ax.scatter(x=df['GDP per capita'], y=df['Life expectancy'])

plt.title("GDP per capita vs life expectancy")

ax.set_xlabel('GDP per capita [$]')
ax.set_ylabel('Life expectancy [Years]')

for idx, row in df.iterrows():
    ax.annotate(row['Entity'], (row['GDP per capita'], row['Life expectancy']))

plt.show()
